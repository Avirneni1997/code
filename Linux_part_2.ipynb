{
  "nbformat": 4,
  "nbformat_minor": 0,
  "metadata": {
    "colab": {
      "provenance": [],
      "authorship_tag": "ABX9TyOkqvJ4Oz0Wg+D3YfOYz+nJ",
      "include_colab_link": true
    },
    "kernelspec": {
      "name": "python3",
      "display_name": "Python 3"
    },
    "language_info": {
      "name": "python"
    }
  },
  "cells": [
    {
      "cell_type": "markdown",
      "metadata": {
        "id": "view-in-github",
        "colab_type": "text"
      },
      "source": [
        "<a href=\"https://colab.research.google.com/github/iamkishore0/Linux/blob/main/Linux_part_2.ipynb\" target=\"_parent\"><img src=\"https://colab.research.google.com/assets/colab-badge.svg\" alt=\"Open In Colab\"/></a>"
      ]
    },
    {
      "cell_type": "markdown",
      "source": [
        "# Copy Files"
      ],
      "metadata": {
        "id": "UXr3yS8onwlz"
      }
    },
    {
      "cell_type": "code",
      "source": [
        "#create a file called vijayawada and create a folder called AP\n",
        "touch vijayawada && mkdir AP"
      ],
      "metadata": {
        "id": "lLihg8bvoM5P"
      },
      "execution_count": null,
      "outputs": []
    },
    {
      "cell_type": "code",
      "source": [
        "#Copy vijayawada file to AP\n",
        "cp vijayawada AP"
      ],
      "metadata": {
        "id": "WFhxm_X2oeGq"
      },
      "execution_count": null,
      "outputs": []
    },
    {
      "cell_type": "markdown",
      "source": [
        "# Move File"
      ],
      "metadata": {
        "id": "5QNU_QWiopTQ"
      }
    },
    {
      "cell_type": "code",
      "source": [
        "#Create a file called guntur\n",
        "touch guntur"
      ],
      "metadata": {
        "id": "SmRwH8F3osXI"
      },
      "execution_count": null,
      "outputs": []
    },
    {
      "cell_type": "code",
      "source": [
        "#Move guntur to AP\n",
        "mv guntur AP"
      ],
      "metadata": {
        "id": "LT2UBsExoxoQ"
      },
      "execution_count": null,
      "outputs": []
    },
    {
      "cell_type": "markdown",
      "source": [
        "# Operating system details"
      ],
      "metadata": {
        "id": "7EUzjcpJo_Qf"
      }
    },
    {
      "cell_type": "code",
      "source": [
        "uname -a"
      ],
      "metadata": {
        "id": "QJe740aSpNBY"
      },
      "execution_count": null,
      "outputs": []
    },
    {
      "cell_type": "markdown",
      "source": [
        "# Switch to User"
      ],
      "metadata": {
        "id": "KTILclqOpTd_"
      }
    },
    {
      "cell_type": "code",
      "source": [
        "su - <!user name!>"
      ],
      "metadata": {
        "id": "_TD0D1VvpY-J"
      },
      "execution_count": null,
      "outputs": []
    },
    {
      "cell_type": "markdown",
      "source": [
        "# Zip a file"
      ],
      "metadata": {
        "id": "vWp67QEopbp3"
      }
    },
    {
      "cell_type": "code",
      "source": [
        "zip <!file name!>"
      ],
      "metadata": {
        "id": "IegRHzUaphmx"
      },
      "execution_count": null,
      "outputs": []
    },
    {
      "cell_type": "markdown",
      "source": [
        "# Unzip a file"
      ],
      "metadata": {
        "id": "pZvStxETpmIH"
      }
    },
    {
      "cell_type": "code",
      "source": [
        "unzip <file name>"
      ],
      "metadata": {
        "id": "85moeZhMppYf"
      },
      "execution_count": null,
      "outputs": []
    },
    {
      "cell_type": "markdown",
      "source": [
        "# Disk free information"
      ],
      "metadata": {
        "id": "xwj9hnStpuGX"
      }
    },
    {
      "cell_type": "code",
      "source": [
        "df"
      ],
      "metadata": {
        "id": "1EIml9uyp6JH"
      },
      "execution_count": null,
      "outputs": []
    },
    {
      "cell_type": "markdown",
      "source": [
        "# Disk Usage information"
      ],
      "metadata": {
        "id": "LMlN09VPp8Z_"
      }
    },
    {
      "cell_type": "code",
      "source": [
        "du"
      ],
      "metadata": {
        "id": "o9hoMKO0p-of"
      },
      "execution_count": null,
      "outputs": []
    }
  ]
}