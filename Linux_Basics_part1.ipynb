{
  "nbformat": 4,
  "nbformat_minor": 0,
  "metadata": {
    "colab": {
      "provenance": [],
      "authorship_tag": "ABX9TyOTZqboqImH3icDzpeNwr+9",
      "include_colab_link": true
    },
    "kernelspec": {
      "name": "python3",
      "display_name": "Python 3"
    },
    "language_info": {
      "name": "python"
    }
  },
  "cells": [
    {
      "cell_type": "markdown",
      "metadata": {
        "id": "view-in-github",
        "colab_type": "text"
      },
      "source": [
        "<a href=\"https://colab.research.google.com/github/iamkishore0/Linux/blob/main/Linux_Basics_part1.ipynb\" target=\"_parent\"><img src=\"https://colab.research.google.com/assets/colab-badge.svg\" alt=\"Open In Colab\"/></a>"
      ]
    },
    {
      "cell_type": "markdown",
      "source": [
        "#Know the current directory"
      ],
      "metadata": {
        "id": "p8IsWE0ekpsO"
      }
    },
    {
      "cell_type": "code",
      "source": [
        "pwd"
      ],
      "metadata": {
        "id": "cwHybUs0ks_Y"
      },
      "execution_count": null,
      "outputs": []
    },
    {
      "cell_type": "markdown",
      "source": [
        "#Switch to root directory"
      ],
      "metadata": {
        "id": "AiKKHQiykt1X"
      }
    },
    {
      "cell_type": "code",
      "source": [
        "sudo -i or sudo - su or sudo su -"
      ],
      "metadata": {
        "id": "qMSyCRFTk4Ev"
      },
      "execution_count": null,
      "outputs": []
    },
    {
      "cell_type": "markdown",
      "source": [
        "#Create a zero byte file - file name ASIA"
      ],
      "metadata": {
        "id": "Lhkjq7jzlBCQ"
      }
    },
    {
      "cell_type": "code",
      "source": [
        "touch ASIA"
      ],
      "metadata": {
        "id": "vDhqoguAlLjS"
      },
      "execution_count": null,
      "outputs": []
    },
    {
      "cell_type": "markdown",
      "source": [
        "#Check content in pwd"
      ],
      "metadata": {
        "id": "xHTDPF3GlSlx"
      }
    },
    {
      "cell_type": "code",
      "source": [
        "ls"
      ],
      "metadata": {
        "id": "fMrZ1pgClcmg"
      },
      "execution_count": null,
      "outputs": []
    },
    {
      "cell_type": "markdown",
      "source": [
        "#Create a Directory - Directory name India"
      ],
      "metadata": {
        "id": "IAG01BB_lhB4"
      }
    },
    {
      "cell_type": "code",
      "source": [
        "mkdir India"
      ],
      "metadata": {
        "id": "oB8LJo_elrvC"
      },
      "execution_count": null,
      "outputs": []
    },
    {
      "cell_type": "markdown",
      "source": [
        "# Switch to the above directory"
      ],
      "metadata": {
        "id": "TuLHEr-Il5WP"
      }
    },
    {
      "cell_type": "code",
      "source": [
        "cd India"
      ],
      "metadata": {
        "id": "ri7zMmRFmGkP"
      },
      "execution_count": null,
      "outputs": []
    },
    {
      "cell_type": "markdown",
      "source": [
        "#Switch back to previous directory"
      ],
      "metadata": {
        "id": "zWYOnOSAmOP_"
      }
    },
    {
      "cell_type": "code",
      "source": [
        "cd .."
      ],
      "metadata": {
        "id": "ZasR0DGCmuco"
      },
      "execution_count": null,
      "outputs": []
    },
    {
      "cell_type": "markdown",
      "source": [
        "#Edit a file with different editors - vi & vim\n",
        "\n",
        "#Edit the existing file ASIA\n",
        "\n",
        "#for vi & vim editors, once file edited, press 'i' for insert mode and write some content and press 'esc' to exit from insert mode\n",
        "\n",
        "#press 'shift' + ':' (hold 'shift' and press ':') and type 'wq' to save & exit from editor\n",
        "\n",
        "#press only 'q' to exit without saving\n",
        "\n",
        "#press q! to exit forecedly"
      ],
      "metadata": {
        "id": "5R2BZLoKmvV_"
      }
    },
    {
      "cell_type": "code",
      "source": [
        "#Edit with vi editor\n",
        "vi ASIA"
      ],
      "metadata": {
        "id": "d0bx8o_9m9yJ"
      },
      "execution_count": null,
      "outputs": []
    },
    {
      "cell_type": "code",
      "source": [
        "#Edit with vim editor\n",
        "vim ASIA"
      ],
      "metadata": {
        "id": "HLwthXWQnSHf"
      },
      "execution_count": null,
      "outputs": []
    },
    {
      "cell_type": "markdown",
      "source": [
        "#Print content of a file - print ASIA file"
      ],
      "metadata": {
        "id": "PqFmTPv0tNT2"
      }
    },
    {
      "cell_type": "code",
      "source": [
        "cat ASIA"
      ],
      "metadata": {
        "id": "fLkKMtbutU94"
      },
      "execution_count": null,
      "outputs": []
    },
    {
      "cell_type": "markdown",
      "source": [
        "#Check hidden content"
      ],
      "metadata": {
        "id": "OD30u9nknaxA"
      }
    },
    {
      "cell_type": "code",
      "source": [
        "ls -a"
      ],
      "metadata": {
        "id": "pMhmSiktpiBX"
      },
      "execution_count": null,
      "outputs": []
    },
    {
      "cell_type": "markdown",
      "source": [
        "#Create nested directory\n",
        "# world directory, inside world dir another directory called india, inside india directory another directory called AP and inside AP directory another directory called guntur"
      ],
      "metadata": {
        "id": "1S_KBJpPpj63"
      }
    },
    {
      "cell_type": "code",
      "source": [
        "mkdir -p /world/india/AP/guntur"
      ],
      "metadata": {
        "id": "sjbChGNpp_T3"
      },
      "execution_count": null,
      "outputs": []
    },
    {
      "cell_type": "markdown",
      "source": [
        "#Switch to nested directories"
      ],
      "metadata": {
        "id": "7yflIWFYqg8m"
      }
    },
    {
      "cell_type": "code",
      "source": [
        "#switch directly to india\n",
        "cd /world/india"
      ],
      "metadata": {
        "id": "5xjrCyr2qpI-"
      },
      "execution_count": null,
      "outputs": []
    },
    {
      "cell_type": "code",
      "source": [
        "#switch to home directory directly\n",
        "cd"
      ],
      "metadata": {
        "id": "QrV1QS2SqyMf"
      },
      "execution_count": null,
      "outputs": []
    },
    {
      "cell_type": "code",
      "source": [
        "#switch to guntur directory directly\n",
        "cd /world/india/AP/guntur"
      ],
      "metadata": {
        "id": "IBLi14Eoq7nv"
      },
      "execution_count": null,
      "outputs": []
    },
    {
      "cell_type": "markdown",
      "source": [
        "# tree view to see directory structure"
      ],
      "metadata": {
        "id": "FHqXGnY4rDWw"
      }
    },
    {
      "cell_type": "code",
      "source": [
        "#first install tree\n",
        "yum install tree -y"
      ],
      "metadata": {
        "id": "Kjypsea4re8Q"
      },
      "execution_count": null,
      "outputs": []
    },
    {
      "cell_type": "code",
      "source": [
        "#tree view\n",
        "tree"
      ],
      "metadata": {
        "id": "fXk5CUo4rgd3"
      },
      "execution_count": null,
      "outputs": []
    },
    {
      "cell_type": "markdown",
      "source": [
        "#remove a file - removing file ASIA"
      ],
      "metadata": {
        "id": "DQgB2_ElrpYw"
      }
    },
    {
      "cell_type": "code",
      "source": [
        "rm ASIA"
      ],
      "metadata": {
        "id": "mSuP0OIsrx9I"
      },
      "execution_count": null,
      "outputs": []
    },
    {
      "cell_type": "code",
      "source": [
        "#remove forcedly without prompting\n",
        "rm -f ASIA"
      ],
      "metadata": {
        "id": "c3o1H10pr74P"
      },
      "execution_count": null,
      "outputs": []
    },
    {
      "cell_type": "markdown",
      "source": [
        "#remove a directory - removing directory called India\n",
        "rmdir India"
      ],
      "metadata": {
        "id": "GJKbAL5asFtt"
      }
    },
    {
      "cell_type": "markdown",
      "source": [
        "#remove non-empty directory - removing nested directory called world"
      ],
      "metadata": {
        "id": "4ptEshGVsX0g"
      }
    },
    {
      "cell_type": "code",
      "source": [
        "rm -r world"
      ],
      "metadata": {
        "id": "gt9vW7lPsa93"
      },
      "execution_count": null,
      "outputs": []
    },
    {
      "cell_type": "code",
      "source": [
        "#remove without promting\n",
        "rm -rf world"
      ],
      "metadata": {
        "id": "ZZIzdc6Rsk1n"
      },
      "execution_count": null,
      "outputs": []
    },
    {
      "cell_type": "markdown",
      "source": [
        "#clear the screen"
      ],
      "metadata": {
        "id": "ST0DtlaMsolP"
      }
    },
    {
      "cell_type": "code",
      "source": [
        "clear"
      ],
      "metadata": {
        "id": "CEbDszKWs2AX"
      },
      "execution_count": null,
      "outputs": []
    },
    {
      "cell_type": "markdown",
      "source": [
        "#Check history of executed commands"
      ],
      "metadata": {
        "id": "UHM8EvWLs2__"
      }
    },
    {
      "cell_type": "code",
      "source": [
        "history"
      ],
      "metadata": {
        "id": "9Bc31B0gtDNu"
      },
      "execution_count": null,
      "outputs": []
    },
    {
      "cell_type": "markdown",
      "source": [
        "#print a file which is not in pwd - printing a file called passwd which is located in /etc/ directory"
      ],
      "metadata": {
        "id": "khVxR5nNtEJW"
      }
    },
    {
      "cell_type": "code",
      "source": [
        "cat /etc/passwd"
      ],
      "metadata": {
        "id": "8OYGxeCpu70e"
      },
      "execution_count": null,
      "outputs": []
    },
    {
      "cell_type": "markdown",
      "source": [
        "#less and more output"
      ],
      "metadata": {
        "id": "tWBOZaRMvIJ-"
      }
    },
    {
      "cell_type": "code",
      "source": [
        "#to see less output\n",
        "less /etc/passwd"
      ],
      "metadata": {
        "id": "wZN0-AGHvN2m"
      },
      "execution_count": null,
      "outputs": []
    },
    {
      "cell_type": "code",
      "source": [
        "#to see more output\n",
        "more /etc/passwd"
      ],
      "metadata": {
        "id": "TnK1QNtnvUeX"
      },
      "execution_count": null,
      "outputs": []
    },
    {
      "cell_type": "markdown",
      "source": [
        "# Head and Tail"
      ],
      "metadata": {
        "id": "jPb3x2mgvX_m"
      }
    },
    {
      "cell_type": "code",
      "source": [
        "#Print first 10 lines of the file\n",
        "head /etc/passwd"
      ],
      "metadata": {
        "id": "7hkdCt-Nve8W"
      },
      "execution_count": null,
      "outputs": []
    },
    {
      "cell_type": "code",
      "source": [
        "#print last 10 lines of the file\n",
        "tail /etc/passwd"
      ],
      "metadata": {
        "id": "dzBXDxV1vlzv"
      },
      "execution_count": null,
      "outputs": []
    },
    {
      "cell_type": "code",
      "source": [
        "#filter & limit - print first 3 lines\n",
        "head -3 /etc/passwd"
      ],
      "metadata": {
        "id": "w9oVJgD0vq7-"
      },
      "execution_count": null,
      "outputs": []
    },
    {
      "cell_type": "code",
      "source": [
        "#filter & limit - print last 5 lines\n",
        "tail -5 /etc/passwd"
      ],
      "metadata": {
        "id": "uCVcfPN6vzC-"
      },
      "execution_count": null,
      "outputs": []
    },
    {
      "cell_type": "markdown",
      "source": [
        "# check installation or command working or not"
      ],
      "metadata": {
        "id": "1nalVik3v6--"
      }
    },
    {
      "cell_type": "code",
      "source": [
        "#check java installation\n",
        "which java"
      ],
      "metadata": {
        "id": "-mTbx2XowLW9"
      },
      "execution_count": null,
      "outputs": []
    },
    {
      "cell_type": "code",
      "source": [
        "#check python installation\n",
        "which python"
      ],
      "metadata": {
        "id": "XZSux2DpwMET"
      },
      "execution_count": null,
      "outputs": []
    },
    {
      "cell_type": "markdown",
      "source": [
        "# Check content which is not in pwd"
      ],
      "metadata": {
        "id": "9RT-4sDRwQsI"
      }
    },
    {
      "cell_type": "code",
      "source": [
        "#To check content in /etc/systemd/system\n",
        "ls /etc/systemd/system"
      ],
      "metadata": {
        "id": "aZYr6lKowd71"
      },
      "execution_count": null,
      "outputs": []
    },
    {
      "cell_type": "markdown",
      "source": [
        "# Edit a file which is not in pwd"
      ],
      "metadata": {
        "id": "2W_I9fAyxLgH"
      }
    },
    {
      "cell_type": "code",
      "source": [
        "#To edit a file which is at /etc/systemd/system/default.target\n",
        "vi /etc/systemd/system/default.target"
      ],
      "metadata": {
        "id": "MUgFVdL9xQIu"
      },
      "execution_count": null,
      "outputs": []
    }
  ]
}
